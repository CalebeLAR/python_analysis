{
 "cells": [
  {
   "cell_type": "code",
   "execution_count": 1,
   "id": "2c2b45a8-aa2f-4118-8f6e-3d5a09306a66",
   "metadata": {},
   "outputs": [],
   "source": [
    "def fund_with_keywords(abra=1,abbra=2,abbbra=3):\n",
    "    return abra,abbra,abbbra"
   ]
  },
  {
   "cell_type": "code",
   "execution_count": 2,
   "id": "750bda06-6668-4002-af17-b040c0f330e7",
   "metadata": {},
   "outputs": [
    {
     "data": {
      "text/plain": [
       "(1, 2, 3)"
      ]
     },
     "execution_count": 2,
     "metadata": {},
     "output_type": "execute_result"
    }
   ],
   "source": [
    "fund_with_keywords()\n"
   ]
  }
 ],
 "metadata": {
  "kernelspec": {
   "display_name": "Python 3 (ipykernel)",
   "language": "python",
   "name": "python3"
  },
  "language_info": {
   "codemirror_mode": {
    "name": "ipython",
    "version": 3
   },
   "file_extension": ".py",
   "mimetype": "text/x-python",
   "name": "python",
   "nbconvert_exporter": "python",
   "pygments_lexer": "ipython3",
   "version": "3.11.5"
  }
 },
 "nbformat": 4,
 "nbformat_minor": 5
}
